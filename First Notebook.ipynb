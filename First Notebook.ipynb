{
  "metadata": {
    "kernelspec": {
      "name": "python",
      "display_name": "Python (Pyodide)",
      "language": "python"
    },
    "language_info": {
      "codemirror_mode": {
        "name": "python",
        "version": 3
      },
      "file_extension": ".py",
      "mimetype": "text/x-python",
      "name": "python",
      "nbconvert_exporter": "python",
      "pygments_lexer": "ipython3",
      "version": "3.8"
    }
  },
  "nbformat_minor": 4,
  "nbformat": 4,
  "cells": [
    {
      "cell_type": "markdown",
      "source": "# Coursera Data Science: My First Jupyter Notebook ",
      "metadata": {}
    },
    {
      "cell_type": "code",
      "source": "#hola\nresponse=5+5\nresponse",
      "metadata": {
        "trusted": true
      },
      "outputs": [
        {
          "execution_count": 1,
          "output_type": "execute_result",
          "data": {
            "text/plain": "10"
          },
          "metadata": {}
        }
      ],
      "execution_count": 1
    },
    {
      "cell_type": "markdown",
      "source": "## Welcome!\nIn this notebook, we'll explore some of the essential tools and techniques that every data scientist should know.",
      "metadata": {}
    },
    {
      "cell_type": "markdown",
      "source": "## 🌐 Top Languages in Data Science\nHere’s our lineup of languages that rock the data science world:\n1. **Python** \n2. **R** \n3. **SQL**  \n4. **Julia** \n5. **Scala**  \n",
      "metadata": {}
    },
    {
      "cell_type": "markdown",
      "source": "## Data Science Libraries\n1. NumPy\n2. Pandas\n3. Matplotlib\n4. Scikit-learn\n5. TensorFlow",
      "metadata": {}
    },
    {
      "cell_type": "markdown",
      "source": "## Data Science Tools\n| Tool Name       | Description                          |\n|-----------------|--------------------------------------|\n| Jupyter Notebook| Interactive computing environment   |\n| RStudio         | IDE for R programming               |\n| Apache Spark    | Cluster-computing framework         |\n",
      "metadata": {}
    },
    {
      "cell_type": "markdown",
      "source": "## Arithmetic Expression Examples\nThis section includes examples of basic arithmetic operations.",
      "metadata": {}
    },
    {
      "cell_type": "code",
      "source": "# Multiply and add numbers\nresult = (5 * 4) + 10\nresult",
      "metadata": {
        "trusted": true
      },
      "outputs": [
        {
          "execution_count": 2,
          "output_type": "execute_result",
          "data": {
            "text/plain": "30"
          },
          "metadata": {}
        }
      ],
      "execution_count": 2
    },
    {
      "cell_type": "code",
      "source": "# Convert minutes to hours\nminutes = 560\nhours = minutes / 60\nhours\n",
      "metadata": {
        "trusted": true
      },
      "outputs": [],
      "execution_count": null
    },
    {
      "cell_type": "markdown",
      "source": "## Objectives\n- Understand basic yntax of Markdown in Jupyter Notebook\n- Perform arithmetic operations in Python\n- Share the notebook on GitHub\n",
      "metadata": {}
    },
    {
      "cell_type": "markdown",
      "source": "## Author\nLoren<3",
      "metadata": {}
    }
  ]
}